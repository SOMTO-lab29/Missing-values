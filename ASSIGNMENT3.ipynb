{
 "cells": [
  {
   "cell_type": "code",
   "execution_count": 1,
   "id": "d78ca74e-dd72-47dd-8ab3-0fa85fb4cad0",
   "metadata": {},
   "outputs": [],
   "source": [
    "import pandas as pd"
   ]
  },
  {
   "cell_type": "code",
   "execution_count": 2,
   "id": "0e01cf29-d62a-4881-a2a3-b39f0be05b57",
   "metadata": {},
   "outputs": [],
   "source": [
    "import numpy as np"
   ]
  },
  {
   "cell_type": "code",
   "execution_count": 3,
   "id": "910b8c15-fefb-40a8-a01a-1cdd934087e4",
   "metadata": {},
   "outputs": [],
   "source": [
    "SOMTO = {\"Surname\":[\"Okon\",\"Osuji\",\"Barry\",np.nan,np.nan,\"Amara\",\"Jack\",\"Fubara\"],\n",
    "         \"FirstName\":[\"Julius\",\"Joy\",\"Emeka\",\"Simi\",\"Pascal\",\"Timi\",\"Anslem\",\"Grace\"],\n",
    "         \"Weight\":[60,72,85,np.nan,63,75,73,np.nan],\n",
    "         \"Height\":[5.4,np.nan,np.nan,6.1,6.2,5.8,5.5,np.nan]}"
   ]
  },
  {
   "cell_type": "code",
   "execution_count": 4,
   "id": "c7777867-da74-442b-ae28-cdef08311c9a",
   "metadata": {},
   "outputs": [],
   "source": [
    "df =pd.DataFrame(SOMTO)"
   ]
  },
  {
   "cell_type": "code",
   "execution_count": 5,
   "id": "7fec5e33-1865-46b5-9182-5833f20a921f",
   "metadata": {},
   "outputs": [
    {
     "name": "stdout",
     "output_type": "stream",
     "text": [
      "  Surname FirstName  Weight  Height\n",
      "0    Okon    Julius    60.0     5.4\n",
      "1   Osuji       Joy    72.0     NaN\n",
      "2   Barry     Emeka    85.0     NaN\n",
      "3     NaN      Simi     NaN     6.1\n",
      "4     NaN    Pascal    63.0     6.2\n",
      "5   Amara      Timi    75.0     5.8\n",
      "6    Jack    Anslem    73.0     5.5\n",
      "7  Fubara     Grace     NaN     NaN\n"
     ]
    }
   ],
   "source": [
    "print(df)"
   ]
  },
  {
   "cell_type": "code",
   "execution_count": 8,
   "id": "febd0980-d311-4372-9336-682618434035",
   "metadata": {},
   "outputs": [
    {
     "name": "stdout",
     "output_type": "stream",
     "text": [
      "   Surname  FirstName  Weight  Height\n",
      "0    False      False   False   False\n",
      "1    False      False   False    True\n",
      "2    False      False   False    True\n",
      "3     True      False    True   False\n",
      "4     True      False   False   False\n",
      "5    False      False   False   False\n",
      "6    False      False   False   False\n",
      "7    False      False    True    True\n"
     ]
    }
   ],
   "source": [
    "#SHOWING AREAS WITH MISSING VALUES\n",
    "print(df.isna())"
   ]
  },
  {
   "cell_type": "code",
   "execution_count": 7,
   "id": "e54aefd5-404e-4a12-bd53-c138436e483d",
   "metadata": {},
   "outputs": [
    {
     "name": "stdout",
     "output_type": "stream",
     "text": [
      "Surname      2\n",
      "FirstName    0\n",
      "Weight       2\n",
      "Height       3\n",
      "dtype: int64\n"
     ]
    }
   ],
   "source": [
    "#COUNTING THE TOTAL MISSING VALUES\n",
    "print(df.isnull().sum())"
   ]
  },
  {
   "cell_type": "code",
   "execution_count": 9,
   "id": "8a451f7c-92eb-419f-8172-2c018ace50cd",
   "metadata": {},
   "outputs": [],
   "source": [
    "#METHOD;FILLING THE MISSING VALUES WITH ZERO\n",
    "df_filled_zero = df.fillna(0)"
   ]
  },
  {
   "cell_type": "code",
   "execution_count": 10,
   "id": "bd65f006-144c-419d-9481-84bd0f8a8e0a",
   "metadata": {},
   "outputs": [
    {
     "name": "stdout",
     "output_type": "stream",
     "text": [
      "  Surname FirstName  Weight  Height\n",
      "0    Okon    Julius    60.0     5.4\n",
      "1   Osuji       Joy    72.0     0.0\n",
      "2   Barry     Emeka    85.0     0.0\n",
      "3       0      Simi     0.0     6.1\n",
      "4       0    Pascal    63.0     6.2\n",
      "5   Amara      Timi    75.0     5.8\n",
      "6    Jack    Anslem    73.0     5.5\n",
      "7  Fubara     Grace     0.0     0.0\n"
     ]
    }
   ],
   "source": [
    "print(df_filled_zero)"
   ]
  },
  {
   "cell_type": "code",
   "execution_count": 22,
   "id": "8da74563-5342-4b33-8329-22b035cc8537",
   "metadata": {},
   "outputs": [
    {
     "data": {
      "text/html": [
       "<div>\n",
       "<style scoped>\n",
       "    .dataframe tbody tr th:only-of-type {\n",
       "        vertical-align: middle;\n",
       "    }\n",
       "\n",
       "    .dataframe tbody tr th {\n",
       "        vertical-align: top;\n",
       "    }\n",
       "\n",
       "    .dataframe thead th {\n",
       "        text-align: right;\n",
       "    }\n",
       "</style>\n",
       "<table border=\"1\" class=\"dataframe\">\n",
       "  <thead>\n",
       "    <tr style=\"text-align: right;\">\n",
       "      <th></th>\n",
       "      <th>Surname</th>\n",
       "      <th>FirstName</th>\n",
       "      <th>Weight</th>\n",
       "      <th>Height</th>\n",
       "    </tr>\n",
       "  </thead>\n",
       "  <tbody>\n",
       "    <tr>\n",
       "      <th>0</th>\n",
       "      <td>Okon</td>\n",
       "      <td>Julius</td>\n",
       "      <td>60.0</td>\n",
       "      <td>5.4</td>\n",
       "    </tr>\n",
       "    <tr>\n",
       "      <th>1</th>\n",
       "      <td>Osuji</td>\n",
       "      <td>Joy</td>\n",
       "      <td>72.0</td>\n",
       "      <td>5.4</td>\n",
       "    </tr>\n",
       "    <tr>\n",
       "      <th>2</th>\n",
       "      <td>Barry</td>\n",
       "      <td>Emeka</td>\n",
       "      <td>85.0</td>\n",
       "      <td>5.4</td>\n",
       "    </tr>\n",
       "    <tr>\n",
       "      <th>3</th>\n",
       "      <td>Barry</td>\n",
       "      <td>Simi</td>\n",
       "      <td>85.0</td>\n",
       "      <td>6.1</td>\n",
       "    </tr>\n",
       "    <tr>\n",
       "      <th>4</th>\n",
       "      <td>Barry</td>\n",
       "      <td>Pascal</td>\n",
       "      <td>63.0</td>\n",
       "      <td>6.2</td>\n",
       "    </tr>\n",
       "    <tr>\n",
       "      <th>5</th>\n",
       "      <td>Amara</td>\n",
       "      <td>Timi</td>\n",
       "      <td>75.0</td>\n",
       "      <td>5.8</td>\n",
       "    </tr>\n",
       "    <tr>\n",
       "      <th>6</th>\n",
       "      <td>Jack</td>\n",
       "      <td>Anslem</td>\n",
       "      <td>73.0</td>\n",
       "      <td>5.5</td>\n",
       "    </tr>\n",
       "    <tr>\n",
       "      <th>7</th>\n",
       "      <td>Fubara</td>\n",
       "      <td>Grace</td>\n",
       "      <td>73.0</td>\n",
       "      <td>5.5</td>\n",
       "    </tr>\n",
       "  </tbody>\n",
       "</table>\n",
       "</div>"
      ],
      "text/plain": [
       "  Surname FirstName  Weight  Height\n",
       "0    Okon    Julius    60.0     5.4\n",
       "1   Osuji       Joy    72.0     5.4\n",
       "2   Barry     Emeka    85.0     5.4\n",
       "3   Barry      Simi    85.0     6.1\n",
       "4   Barry    Pascal    63.0     6.2\n",
       "5   Amara      Timi    75.0     5.8\n",
       "6    Jack    Anslem    73.0     5.5\n",
       "7  Fubara     Grace    73.0     5.5"
      ]
     },
     "execution_count": 22,
     "metadata": {},
     "output_type": "execute_result"
    }
   ],
   "source": [
    "#METHOD 4;FORWARD FILLING\n",
    "df.ffill()"
   ]
  },
  {
   "cell_type": "code",
   "execution_count": 23,
   "id": "3853fdbe-ce9a-4f43-8c73-cdea78f11e8b",
   "metadata": {},
   "outputs": [
    {
     "name": "stdout",
     "output_type": "stream",
     "text": [
      "  Surname FirstName  Weight  Height\n",
      "0    Okon    Julius    60.0     5.4\n",
      "1   Osuji       Joy    72.0     NaN\n",
      "2   Barry     Emeka    85.0     NaN\n",
      "3     NaN      Simi    74.0     6.1\n",
      "4     NaN    Pascal    63.0     6.2\n",
      "5   Amara      Timi    75.0     5.8\n",
      "6    Jack    Anslem    73.0     5.5\n",
      "7  Fubara     Grace    73.0     NaN\n"
     ]
    }
   ],
   "source": [
    "df['Weight'] = df['Weight'].interpolate()\n",
    "print(df)"
   ]
  },
  {
   "cell_type": "code",
   "execution_count": 25,
   "id": "76b966d7-90b1-47ce-bcda-65b0354a94b5",
   "metadata": {},
   "outputs": [
    {
     "name": "stdout",
     "output_type": "stream",
     "text": [
      "  Surname FirstName  Weight    Height\n",
      "0    Okon    Julius    60.0  5.400000\n",
      "1   Osuji       Joy    72.0  5.633333\n",
      "2   Barry     Emeka    85.0  5.866667\n",
      "3     NaN      Simi    74.0  6.100000\n",
      "4     NaN    Pascal    63.0  6.200000\n",
      "5   Amara      Timi    75.0  5.800000\n",
      "6    Jack    Anslem    73.0  5.500000\n",
      "7  Fubara     Grace    73.0  5.500000\n"
     ]
    }
   ],
   "source": [
    "df['Height'] = df['Height'].interpolate()\n",
    "print(df)"
   ]
  },
  {
   "cell_type": "code",
   "execution_count": 27,
   "id": "7e70fac9-b773-4a16-95c4-44522365c46e",
   "metadata": {},
   "outputs": [
    {
     "data": {
      "text/html": [
       "<div>\n",
       "<style scoped>\n",
       "    .dataframe tbody tr th:only-of-type {\n",
       "        vertical-align: middle;\n",
       "    }\n",
       "\n",
       "    .dataframe tbody tr th {\n",
       "        vertical-align: top;\n",
       "    }\n",
       "\n",
       "    .dataframe thead th {\n",
       "        text-align: right;\n",
       "    }\n",
       "</style>\n",
       "<table border=\"1\" class=\"dataframe\">\n",
       "  <thead>\n",
       "    <tr style=\"text-align: right;\">\n",
       "      <th></th>\n",
       "      <th>Surname</th>\n",
       "      <th>FirstName</th>\n",
       "      <th>Weight</th>\n",
       "      <th>Height</th>\n",
       "    </tr>\n",
       "  </thead>\n",
       "  <tbody>\n",
       "    <tr>\n",
       "      <th>0</th>\n",
       "      <td>Okon</td>\n",
       "      <td>Julius</td>\n",
       "      <td>60.0</td>\n",
       "      <td>5.400000</td>\n",
       "    </tr>\n",
       "    <tr>\n",
       "      <th>1</th>\n",
       "      <td>Osuji</td>\n",
       "      <td>Joy</td>\n",
       "      <td>72.0</td>\n",
       "      <td>5.633333</td>\n",
       "    </tr>\n",
       "    <tr>\n",
       "      <th>2</th>\n",
       "      <td>Barry</td>\n",
       "      <td>Emeka</td>\n",
       "      <td>85.0</td>\n",
       "      <td>5.866667</td>\n",
       "    </tr>\n",
       "    <tr>\n",
       "      <th>3</th>\n",
       "      <td>Amara</td>\n",
       "      <td>Simi</td>\n",
       "      <td>74.0</td>\n",
       "      <td>6.100000</td>\n",
       "    </tr>\n",
       "    <tr>\n",
       "      <th>4</th>\n",
       "      <td>Amara</td>\n",
       "      <td>Pascal</td>\n",
       "      <td>63.0</td>\n",
       "      <td>6.200000</td>\n",
       "    </tr>\n",
       "    <tr>\n",
       "      <th>5</th>\n",
       "      <td>Amara</td>\n",
       "      <td>Timi</td>\n",
       "      <td>75.0</td>\n",
       "      <td>5.800000</td>\n",
       "    </tr>\n",
       "    <tr>\n",
       "      <th>6</th>\n",
       "      <td>Jack</td>\n",
       "      <td>Anslem</td>\n",
       "      <td>73.0</td>\n",
       "      <td>5.500000</td>\n",
       "    </tr>\n",
       "    <tr>\n",
       "      <th>7</th>\n",
       "      <td>Fubara</td>\n",
       "      <td>Grace</td>\n",
       "      <td>73.0</td>\n",
       "      <td>5.500000</td>\n",
       "    </tr>\n",
       "  </tbody>\n",
       "</table>\n",
       "</div>"
      ],
      "text/plain": [
       "  Surname FirstName  Weight    Height\n",
       "0    Okon    Julius    60.0  5.400000\n",
       "1   Osuji       Joy    72.0  5.633333\n",
       "2   Barry     Emeka    85.0  5.866667\n",
       "3   Amara      Simi    74.0  6.100000\n",
       "4   Amara    Pascal    63.0  6.200000\n",
       "5   Amara      Timi    75.0  5.800000\n",
       "6    Jack    Anslem    73.0  5.500000\n",
       "7  Fubara     Grace    73.0  5.500000"
      ]
     },
     "execution_count": 27,
     "metadata": {},
     "output_type": "execute_result"
    }
   ],
   "source": [
    "df.bfill()"
   ]
  },
  {
   "cell_type": "code",
   "execution_count": null,
   "id": "144a53cf-8e7b-46f3-9449-601fdd8e7cb1",
   "metadata": {},
   "outputs": [],
   "source": []
  }
 ],
 "metadata": {
  "kernelspec": {
   "display_name": "Python 3 (ipykernel)",
   "language": "python",
   "name": "python3"
  },
  "language_info": {
   "codemirror_mode": {
    "name": "ipython",
    "version": 3
   },
   "file_extension": ".py",
   "mimetype": "text/x-python",
   "name": "python",
   "nbconvert_exporter": "python",
   "pygments_lexer": "ipython3",
   "version": "3.11.7"
  }
 },
 "nbformat": 4,
 "nbformat_minor": 5
}
